{
 "cells": [
  {
   "cell_type": "code",
   "execution_count": 6,
   "id": "1609d413-ee20-40f4-8298-4a8e6e9be405",
   "metadata": {},
   "outputs": [],
   "source": [
    "import set_env  # not included in the repo, defines $PROJECT_DIR, $PNC_PROJECT_DIR, $IMAGEN_PROJECT_DIR & $INPUT_DIR"
   ]
  },
  {
   "cell_type": "code",
   "execution_count": 7,
   "id": "744fef22-2d37-4f19-82e6-84e574a61d75",
   "metadata": {},
   "outputs": [],
   "source": [
    "import os\n",
    "import glob\n",
    "import sys\n",
    "import numpy as np\n",
    "import pandas as pd\n",
    "import scipy\n",
    "import matplotlib.pyplot as plt\n",
    "\n",
    "OUTPUT_DIR = {\n",
    "    \"pnc\": os.path.join(os.environ[\"PNC_PROJECT_DIR\"], \"output\"),\n",
    "    \"imagen\": os.path.join(os.environ[\"IMAGEN_PROJECT_DIR\"], \"output\"),\n",
    "    \"micamics\": os.path.join(os.environ[\"PROJECT_DIR\"], \"output\", \"micamics\")\n",
    "}\n",
    "INPUT_DIR = os.environ[\"INPUT_DIR\"]\n",
    "CODE_DIR = os.path.join(os.getcwd(), \"..\", \"scripts\")\n",
    "sys.path.append(CODE_DIR)\n",
    "from utils import stats\n",
    "\n",
    "from modeling.check_fit import load_cmaes\n",
    "\n",
    "import warnings\n",
    "warnings.filterwarnings(\"ignore\")\n",
    "\n",
    "plt.rcParams.update({\"font.size\": 12, \"font.family\": \"Asana Math\", \"figure.dpi\": 192})\n",
    "thcolor = \"#44546A\""
   ]
  },
  {
   "cell_type": "markdown",
   "id": "e28eee2f-ec91-469f-b05b-4b254059f3fc",
   "metadata": {},
   "source": [
    "Load data of the ground truth (synthetic) simulation:"
   ]
  },
  {
   "cell_type": "code",
   "execution_count": 8,
   "id": "7af25032-9f81-4777-8fd1-1b536079f4d3",
   "metadata": {},
   "outputs": [],
   "source": [
    "orig_data = np.load('./ground_truth/synthetic/it1.npz', allow_pickle=True)\n",
    "orig_vars = {}\n",
    "# parameters\n",
    "for p in ['wEE', 'wEI', 'wIE']:\n",
    "    # in cuBNM parameter names are wEE etc.\n",
    "    orig_vars[p] = orig_data[p].squeeze()\n",
    "# I_E\n",
    "orig_vars['I_E'] = orig_data['sim_states'].flatten()[0]['I_E'].squeeze()\n",
    "orig_vars = pd.DataFrame(orig_vars)"
   ]
  },
  {
   "cell_type": "markdown",
   "id": "0d4e83de-8459-40f8-9849-36fbb1903ec9",
   "metadata": {},
   "source": [
    "Load data of the optima resulted in the recovery CMAES runs:"
   ]
  },
  {
   "cell_type": "code",
   "execution_count": 9,
   "id": "85671eee-f2c7-4b64-b83d-3e8454bf90c5",
   "metadata": {},
   "outputs": [],
   "source": [
    "recov_opt = {}\n",
    "recov_data = {}\n",
    "best_opt_seeds = {}\n",
    "for sim_seed in [410, 40]:\n",
    "    recov_opt[sim_seed] = {}\n",
    "    recov_data[sim_seed] = {}   \n",
    "    for opt_seed in [1, 2]:\n",
    "        # load optimum params and gof\n",
    "        recov_opt[sim_seed][opt_seed] = pd.read_csv(f'./ground_truth/recovery/sim-{sim_seed}_opt-{opt_seed}/cmaes_run-0/opt.csv', index_col=0).iloc[:, 0]\n",
    "        recov_opt[sim_seed][opt_seed]['opt_seed'] = opt_seed\n",
    "        # load optimum simulation data\n",
    "        sim_data = np.load(\n",
    "            glob.glob(f'./ground_truth/recovery/sim-{sim_seed}_opt-{opt_seed}/cmaes_run-0/opt_sim/it*.npz')[0], \n",
    "            allow_pickle=True\n",
    "        )\n",
    "        recov_data[sim_seed][opt_seed] = {}\n",
    "        for param in ['wEE', 'wEI', 'wIE']:\n",
    "            recov_data[sim_seed][opt_seed][param] = sim_data[param][0]\n",
    "        recov_data[sim_seed][opt_seed]['I_E'] = sim_data['sim_states'].flatten()[0]['I_E'].flatten()\n",
    "    best_opt_seed = int(pd.DataFrame(recov_opt[sim_seed]).T.set_index('opt_seed')['+gof'].idxmax())\n",
    "    best_opt_seeds[sim_seed] = best_opt_seed"
   ]
  },
  {
   "cell_type": "markdown",
   "id": "dd41724c-0365-4c8c-b032-4d58f570147d",
   "metadata": {},
   "source": [
    "Load data of the optima resulted in the recovery CMAES runs:"
   ]
  },
  {
   "cell_type": "code",
   "execution_count": 10,
   "id": "3fc20048-821d-4916-92aa-764b19387525",
   "metadata": {},
   "outputs": [
    {
     "name": "stdout",
     "output_type": "stream",
     "text": [
      "----------\n",
      "sim_seed: 410\n",
      "----------\n",
      "GOF measures\n",
      "\t+gof: 0.966\n",
      "\t+fc_corr: 0.992\n",
      "\t-fcd_ks: -0.019\n",
      "\t-fc_diff: -0.007\n",
      "wEE\n",
      "\tCorrelation = 0.299 (p = 0.003)\n",
      "\tmadICC = -0.215\n",
      "wEI\n",
      "\tCorrelation = 0.937 (p = 0.000)\n",
      "\tmadICC = 0.922\n",
      "wIE\n",
      "\tCorrelation = 0.957 (p = 0.000)\n",
      "\tmadICC = 0.915\n",
      "I_E\n",
      "\tCorrelation = 0.977 (p = 0.000)\n",
      "\tmadICC = 0.943\n",
      "G\n",
      "\tTruth: 2.5; Recovered: 2.69\n",
      "----------\n",
      "sim_seed: 40\n",
      "----------\n",
      "GOF measures\n",
      "\t+gof: 0.810\n",
      "\t+fc_corr: 0.842\n",
      "\t-fcd_ks: -0.031\n",
      "\t-fc_diff: -0.001\n",
      "wEE\n",
      "\tCorrelation = 0.918 (p = 0.000)\n",
      "\tmadICC = 0.863\n",
      "wEI\n",
      "\tCorrelation = 0.925 (p = 0.000)\n",
      "\tmadICC = 0.795\n",
      "wIE\n",
      "\tCorrelation = 0.963 (p = 0.000)\n",
      "\tmadICC = 0.972\n",
      "I_E\n",
      "\tCorrelation = 0.734 (p = 0.000)\n",
      "\tmadICC = 0.472\n",
      "G\n",
      "\tTruth: 2.5; Recovered: 3.92\n"
     ]
    }
   ],
   "source": [
    "for sim_seed in [410, 40]:\n",
    "    print(f\"{'-'*10}\\nsim_seed: {sim_seed}\\n{'-'*10}\")\n",
    "    best_opt_seed = best_opt_seeds[sim_seed]\n",
    "    print(\"GOF measures\")\n",
    "    for measure in ['+gof', '+fc_corr', '-fcd_ks', '-fc_diff']:\n",
    "        print(f\"\\t{measure}: {recov_opt[sim_seed][best_opt_seed][measure]:.3f}\")\n",
    "    for var in ['wEE', 'wEI', 'wIE', 'I_E']:\n",
    "        r = scipy.stats.pearsonr(recov_data[sim_seed][best_opt_seed][var], orig_vars[var])\n",
    "        madicc = stats.madicc(recov_data[sim_seed][best_opt_seed][var], orig_vars[var])\n",
    "        print(f\"{var}\\n\\tCorrelation = {r.statistic:.3f} (p = {r.pvalue:.3f})\\n\\tmadICC = {madicc:.3f}\")\n",
    "    print(f\"G\\n\\tTruth: {orig_data['G'][0]}; Recovered: {recov_opt[sim_seed][best_opt_seed]['G']:.2f}\")"
   ]
  }
 ],
 "metadata": {
  "kernelspec": {
   "display_name": "Python 3 (ipykernel)",
   "language": "python",
   "name": "python3"
  },
  "language_info": {
   "codemirror_mode": {
    "name": "ipython",
    "version": 3
   },
   "file_extension": ".py",
   "mimetype": "text/x-python",
   "name": "python",
   "nbconvert_exporter": "python",
   "pygments_lexer": "ipython3",
   "version": "3.10.13"
  }
 },
 "nbformat": 4,
 "nbformat_minor": 5
}
